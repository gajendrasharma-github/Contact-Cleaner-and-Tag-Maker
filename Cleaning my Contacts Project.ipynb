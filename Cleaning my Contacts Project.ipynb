{
 "cells": [
  {
   "cell_type": "code",
   "execution_count": 23,
   "id": "8f3920ae",
   "metadata": {},
   "outputs": [],
   "source": [
    "import numpy as np\n",
    "import pandas as pd"
   ]
  },
  {
   "cell_type": "code",
   "execution_count": 24,
   "id": "0cb630ee",
   "metadata": {},
   "outputs": [],
   "source": [
    "pd.set_option('display.max_columns', None)"
   ]
  },
  {
   "cell_type": "code",
   "execution_count": 31,
   "id": "0db0bb75",
   "metadata": {
    "scrolled": false
   },
   "outputs": [
    {
     "data": {
      "text/html": [
       "<div>\n",
       "<style scoped>\n",
       "    .dataframe tbody tr th:only-of-type {\n",
       "        vertical-align: middle;\n",
       "    }\n",
       "\n",
       "    .dataframe tbody tr th {\n",
       "        vertical-align: top;\n",
       "    }\n",
       "\n",
       "    .dataframe thead th {\n",
       "        text-align: right;\n",
       "    }\n",
       "</style>\n",
       "<table border=\"1\" class=\"dataframe\">\n",
       "  <thead>\n",
       "    <tr style=\"text-align: right;\">\n",
       "      <th></th>\n",
       "      <th>Name</th>\n",
       "      <th>Phone 1 - Value</th>\n",
       "      <th>Phone 2 - Value</th>\n",
       "    </tr>\n",
       "  </thead>\n",
       "  <tbody>\n",
       "    <tr>\n",
       "      <th>0</th>\n",
       "      <td>Aakash Rai Sajc</td>\n",
       "      <td>917449328816</td>\n",
       "      <td>NaN</td>\n",
       "    </tr>\n",
       "    <tr>\n",
       "      <th>1</th>\n",
       "      <td>Aayush Gb Sir Whatsapp</td>\n",
       "      <td>919051028672</td>\n",
       "      <td>NaN</td>\n",
       "    </tr>\n",
       "    <tr>\n",
       "      <th>2</th>\n",
       "      <td>Aayush Soni SPIS</td>\n",
       "      <td>943-344-7078</td>\n",
       "      <td>NaN</td>\n",
       "    </tr>\n",
       "    <tr>\n",
       "      <th>3</th>\n",
       "      <td>Ab Sir 1</td>\n",
       "      <td>988-321-9857</td>\n",
       "      <td>NaN</td>\n",
       "    </tr>\n",
       "    <tr>\n",
       "      <th>4</th>\n",
       "      <td>Abha Srijen</td>\n",
       "      <td>918709736458</td>\n",
       "      <td>NaN</td>\n",
       "    </tr>\n",
       "  </tbody>\n",
       "</table>\n",
       "</div>"
      ],
      "text/plain": [
       "                     Name Phone 1 - Value Phone 2 - Value\n",
       "0         Aakash Rai Sajc    917449328816             NaN\n",
       "1  Aayush Gb Sir Whatsapp    919051028672             NaN\n",
       "2        Aayush Soni SPIS    943-344-7078             NaN\n",
       "3                Ab Sir 1    988-321-9857             NaN\n",
       "4             Abha Srijen    918709736458             NaN"
      ]
     },
     "execution_count": 31,
     "metadata": {},
     "output_type": "execute_result"
    }
   ],
   "source": [
    "data=pd.read_csv('Full List of Contacts.csv')\n",
    "data.head()"
   ]
  },
  {
   "cell_type": "markdown",
   "id": "99fb47aa",
   "metadata": {},
   "source": [
    "### Cleaning the Phone-1"
   ]
  },
  {
   "cell_type": "code",
   "execution_count": 32,
   "id": "6706f836",
   "metadata": {},
   "outputs": [],
   "source": [
    "def clean(text):\n",
    "    text= str(text)\n",
    "    text=text.replace('+', '')\n",
    "    text=text.replace('-', '')\n",
    "    text = text.replace(' ', '')\n",
    "    return text"
   ]
  },
  {
   "cell_type": "code",
   "execution_count": 33,
   "id": "e9c707e9",
   "metadata": {},
   "outputs": [],
   "source": [
    "data['Phone 1 - Value'] = data['Phone 1 - Value'].apply(clean)"
   ]
  },
  {
   "cell_type": "code",
   "execution_count": 34,
   "id": "2a9ffddf",
   "metadata": {
    "scrolled": false
   },
   "outputs": [
    {
     "data": {
      "text/plain": [
       "Phone 1 - Value\n",
       "12    693\n",
       "10    324\n",
       "11      3\n",
       "Name: count, dtype: int64"
      ]
     },
     "execution_count": 34,
     "metadata": {},
     "output_type": "execute_result"
    }
   ],
   "source": [
    "data['Phone 1 - Value'].apply(lambda x:len(x)).value_counts()"
   ]
  },
  {
   "cell_type": "code",
   "execution_count": 35,
   "id": "c7abf530",
   "metadata": {
    "scrolled": false
   },
   "outputs": [
    {
     "data": {
      "text/plain": [
       "Phone 1 - Value\n",
       "91    693\n",
       "Name: count, dtype: int64"
      ]
     },
     "execution_count": 35,
     "metadata": {},
     "output_type": "execute_result"
    }
   ],
   "source": [
    "data['Phone 1 - Value'][data['Phone 1 - Value'].apply(lambda x: len(x)==12)].apply(lambda x: str(x)[0:2]).value_counts()"
   ]
  },
  {
   "cell_type": "code",
   "execution_count": 36,
   "id": "95a192f4",
   "metadata": {
    "scrolled": true
   },
   "outputs": [
    {
     "data": {
      "text/plain": [
       "368    15149163842\n",
       "370    14389209303\n",
       "552    34635135883\n",
       "Name: Phone 1 - Value, dtype: object"
      ]
     },
     "execution_count": 36,
     "metadata": {},
     "output_type": "execute_result"
    }
   ],
   "source": [
    "data['Phone 1 - Value'][data['Phone 1 - Value'].apply(lambda x: len(x)==11)]"
   ]
  },
  {
   "cell_type": "code",
   "execution_count": 37,
   "id": "f13b2bb6",
   "metadata": {},
   "outputs": [],
   "source": [
    "def replace(text):\n",
    "    text = str(text)\n",
    "    if len(text) == 12:\n",
    "        text = text[2:]\n",
    "    else:\n",
    "        text = text\n",
    "    return text "
   ]
  },
  {
   "cell_type": "code",
   "execution_count": 38,
   "id": "d2f30437",
   "metadata": {},
   "outputs": [],
   "source": [
    "data['Phone 1 - Value'] = data['Phone 1 - Value'].apply(replace)"
   ]
  },
  {
   "cell_type": "code",
   "execution_count": 39,
   "id": "13526e0f",
   "metadata": {},
   "outputs": [
    {
     "data": {
      "text/plain": [
       "Phone 1 - Value\n",
       "10    1017\n",
       "11       3\n",
       "Name: count, dtype: int64"
      ]
     },
     "execution_count": 39,
     "metadata": {},
     "output_type": "execute_result"
    }
   ],
   "source": [
    "data['Phone 1 - Value'].apply(lambda x:len(x)).value_counts()"
   ]
  },
  {
   "cell_type": "markdown",
   "id": "edcff8ae",
   "metadata": {},
   "source": [
    "### Cleaning the Phone 2"
   ]
  },
  {
   "cell_type": "code",
   "execution_count": 40,
   "id": "2267a654",
   "metadata": {},
   "outputs": [],
   "source": [
    "data['Phone 2 - Value'] = data['Phone 2 - Value'].apply(clean)"
   ]
  },
  {
   "cell_type": "code",
   "execution_count": 41,
   "id": "24eeebc6",
   "metadata": {},
   "outputs": [],
   "source": [
    "data['Phone 2 - Value'] = data['Phone 2 - Value'].apply(replace)"
   ]
  },
  {
   "cell_type": "code",
   "execution_count": 42,
   "id": "90e9e6d3",
   "metadata": {
    "scrolled": true
   },
   "outputs": [
    {
     "data": {
      "text/plain": [
       "Phone 2 - Value\n",
       "3     1006\n",
       "10      14\n",
       "Name: count, dtype: int64"
      ]
     },
     "execution_count": 42,
     "metadata": {},
     "output_type": "execute_result"
    }
   ],
   "source": [
    "data['Phone 2 - Value'].apply(lambda x:len(x)).value_counts()"
   ]
  },
  {
   "cell_type": "code",
   "execution_count": 43,
   "id": "cbe8bf03",
   "metadata": {
    "scrolled": true
   },
   "outputs": [
    {
     "data": {
      "text/plain": [
       "Phone 2 - Value\n",
       "nan           1006\n",
       "8557978039       1\n",
       "7280010101       1\n",
       "9374733772       1\n",
       "9836737272       1\n",
       "9831227791       1\n",
       "9883672882       1\n",
       "9079220048       1\n",
       "7003406294       1\n",
       "9817922283       1\n",
       "7427052739       1\n",
       "8240522212       1\n",
       "8444998056       1\n",
       "9205872015       1\n",
       "7003383130       1\n",
       "Name: count, dtype: int64"
      ]
     },
     "execution_count": 43,
     "metadata": {},
     "output_type": "execute_result"
    }
   ],
   "source": [
    "data['Phone 2 - Value'].value_counts()"
   ]
  },
  {
   "cell_type": "markdown",
   "id": "4c2dee2b",
   "metadata": {},
   "source": [
    "#### Applying The Tags"
   ]
  },
  {
   "cell_type": "code",
   "execution_count": 44,
   "id": "034a46d3",
   "metadata": {},
   "outputs": [
    {
     "data": {
      "text/plain": [
       "0                   [Aakash, Rai, Sajc]\n",
       "1           [Aayush, Gb, Sir, Whatsapp]\n",
       "2                  [Aayush, Soni, SPIS]\n",
       "3                          [Ab, Sir, 1]\n",
       "4                        [Abha, Srijen]\n",
       "                     ...               \n",
       "1015                 [Yatin, Sendzilla]\n",
       "1016    [Yatin, Sendzilla, Calling, No]\n",
       "1017            [Yogesh, Bhaiya, SSSSO]\n",
       "1018                 [Yogesh, Firstcry]\n",
       "1019       [Zubair, Rahman, Uber, Bike]\n",
       "Name: Name, Length: 1020, dtype: object"
      ]
     },
     "execution_count": 44,
     "metadata": {},
     "output_type": "execute_result"
    }
   ],
   "source": [
    "data['Name'].apply(lambda x: x.split(' '))"
   ]
  },
  {
   "cell_type": "markdown",
   "id": "cac3fe4e",
   "metadata": {},
   "source": [
    "### Giving Tags"
   ]
  },
  {
   "cell_type": "code",
   "execution_count": 45,
   "id": "202d8f83",
   "metadata": {},
   "outputs": [],
   "source": [
    "def Give_tags(text):\n",
    "    text = text.lower()\n",
    "    text = text.split(' ')\n",
    "    if 'sajc'in text or 'jaipuria' in text:\n",
    "        return 'Sajc'\n",
    "    elif 'shoolini'in text or 'shoolinimate' in text:\n",
    "        return 'Shoolini'\n",
    "    elif 'wao' in text:\n",
    "        return 'Wao'\n",
    "    elif 'ab' in text:\n",
    "        return 'AB Sir'\n",
    "    elif 'gb' in text:\n",
    "        return 'GB Sir'\n",
    "    elif 'spis' in text:\n",
    "        return 'Spis'\n",
    "    elif 'gwg' in text:\n",
    "        return 'Grow with Gajju'\n",
    "    elif 'fun' in text:\n",
    "        return 'Fun Sessions'\n",
    "    elif 'great' in text or 'gl' in text:\n",
    "        return 'Great Learning'\n",
    "    elif 'wishkey' in text or 'firstcry' in text:\n",
    "        return 'Wishkey'\n",
    "    elif 'sssso' in text:\n",
    "        return 'Sathya Sai Seva Samity'\n",
    "    elif 'biosash' in text:\n",
    "        return 'Biosash'\n",
    "    elif 'modicare' in text:\n",
    "        return 'Modicare'\n",
    "    elif 'srijen' in text:\n",
    "        return 'Srijen'\n",
    "    elif 'rr' in text or 'richer' in text:\n",
    "        return 'Richer Readers'\n",
    "    elif 'driver' in text or 'cab' in text or 'taxi' in text or 'uber' in text or 'bike' in text or 'ola' in text:\n",
    "        return 'Cab or bike'\n",
    "    elif 'erudite' in text:\n",
    "        return 'Erudite'\n",
    "    elif 'fibre' in text or 'fiber' in text:\n",
    "        return 'wifi'\n",
    "    elif 'docemy' in text:\n",
    "        return 'Docemy'\n",
    "    elif 'habit' in text:\n",
    "        return 'Morning Workshop'\n",
    "    elif 'insta' in text:\n",
    "        return 'Instagram Friends'\n",
    "    elif 'book' in text:\n",
    "        return 'Book O Holic'\n",
    "    elif 'sendzilla' in text:\n",
    "        return 'Sendzilla'\n",
    "    elif 'guest' in text:\n",
    "        return 'Guest House'\n",
    "    elif 'sjv' in text:\n",
    "        return 'SJV'\n",
    "    elif 'anna'in text or 'akka' in text or 'goy' in text or 'gpu' in text :\n",
    "        return 'Isha'\n",
    "    elif'linkedin' in text:\n",
    "        return 'Linkedin Friends'\n",
    "    elif 'internship' in text or 'work' in text:\n",
    "        return 'Professional'\n",
    "    elif 'vasant' in text or 'virtual' in text or 'pathshala' in text or 'zoom' in text or 'samvedna' in text:\n",
    "        return 'Samvedna'\n",
    "    elif 'love' in text:\n",
    "        return 'Love and Care'\n",
    "    elif 'elite' in text or 'toastmaster' in text or 'toastmasters' in text or 'tm' in text:\n",
    "        return 'Toastmasters'\n",
    "    elif 'rent' in text or 'flat' in text or 'pg' in text or 'hotel' in text:\n",
    "        return 'Flat Hunting or Hotels'\n",
    "    elif 'vocab' in text or 'spotify' in text:\n",
    "        return 'Vocab Ke Nuskhe'\n",
    "    elif 'Mayapur' in text:\n",
    "        return 'Mayapur'\n",
    "    elif 'mmc' in text:\n",
    "        return 'Manindra College'\n",
    "    elif 'relative' in text:\n",
    "        return 'Relatives'\n",
    "    elif 'teacher' in text:\n",
    "        return 'Teacher'\n",
    "    elif 'preetam' in text:\n",
    "        return 'Preetam Sir'\n",
    "    elif 'javed' in text:\n",
    "        return 'Javed Sir'\n",
    "    elif 'creators' in text:\n",
    "        return 'Creators Group'\n",
    "    elif 'mistry' in text or 'mistri' in text:\n",
    "        return 'Mistri or Mistry'\n",
    "    elif 'shivnath' in text or 'scottish' in text :\n",
    "        return 'Inter College event'\n",
    "    elif 'little' in text:\n",
    "        return 'Little Flower'\n",
    "    elif 'open' in text:\n",
    "        return 'Open Mic'\n",
    "    elif 'law' in text or 'loa' in text or 'manifestation' in text:\n",
    "        return 'Law of Attraction'\n",
    "    elif 'adda' in text:\n",
    "        return 'ADDA'\n",
    "\n",
    "    else:\n",
    "        return 'Others'"
   ]
  },
  {
   "cell_type": "code",
   "execution_count": 50,
   "id": "bc55bc41",
   "metadata": {},
   "outputs": [],
   "source": [
    "data['Tags'] = data['Name'].apply(Give_tags)"
   ]
  },
  {
   "cell_type": "code",
   "execution_count": 51,
   "id": "48697af7",
   "metadata": {},
   "outputs": [
    {
     "data": {
      "text/plain": [
       "Tags\n",
       "Shoolini                  130\n",
       "Others                    102\n",
       "Sajc                       85\n",
       "Wishkey                    61\n",
       "Great Learning             47\n",
       "Wao                        39\n",
       "Isha                       36\n",
       "SJV                        36\n",
       "Spis                       32\n",
       "Morning Workshop           31\n",
       "Docemy                     28\n",
       "Love and Care              26\n",
       "Fun Sessions               24\n",
       "Samvedna                   24\n",
       "Toastmasters               23\n",
       "Biosash                    23\n",
       "Professional               21\n",
       "Flat Hunting or Hotels     20\n",
       "Richer Readers             20\n",
       "AB Sir                     18\n",
       "Preetam Sir                17\n",
       "Teacher                    17\n",
       "Relatives                  15\n",
       "Erudite                    13\n",
       "Srijen                     12\n",
       "GB Sir                     12\n",
       "Modicare                   10\n",
       "Linkedin Friends           10\n",
       "Inter College event         9\n",
       "Sathya Sai Seva Samity      9\n",
       "Manindra College            8\n",
       "Instagram Friends           7\n",
       "Open Mic                    7\n",
       "Cab or bike                 7\n",
       "Little Flower               6\n",
       "Law of Attraction           5\n",
       "Book O Holic                5\n",
       "ADDA                        4\n",
       "Mistri or Mistry            4\n",
       "wifi                        3\n",
       "Creators Group              3\n",
       "Sendzilla                   3\n",
       "Guest House                 2\n",
       "Vocab Ke Nuskhe             2\n",
       "Javed Sir                   2\n",
       "Grow with Gajju             2\n",
       "Name: count, dtype: int64"
      ]
     },
     "execution_count": 51,
     "metadata": {},
     "output_type": "execute_result"
    }
   ],
   "source": [
    "data['Tags'].value_counts()"
   ]
  },
  {
   "cell_type": "code",
   "execution_count": 52,
   "id": "60239a13",
   "metadata": {},
   "outputs": [],
   "source": [
    "data.to_csv('contacts_tagged.csv', index = False)"
   ]
  },
  {
   "cell_type": "code",
   "execution_count": null,
   "id": "eede12bd",
   "metadata": {},
   "outputs": [],
   "source": []
  }
 ],
 "metadata": {
  "kernelspec": {
   "display_name": "Python 3 (ipykernel)",
   "language": "python",
   "name": "python3"
  },
  "language_info": {
   "codemirror_mode": {
    "name": "ipython",
    "version": 3
   },
   "file_extension": ".py",
   "mimetype": "text/x-python",
   "name": "python",
   "nbconvert_exporter": "python",
   "pygments_lexer": "ipython3",
   "version": "3.11.5"
  }
 },
 "nbformat": 4,
 "nbformat_minor": 5
}
